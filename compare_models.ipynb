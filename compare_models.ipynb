{
 "cells": [
  {
   "cell_type": "code",
   "execution_count": null,
   "metadata": {},
   "outputs": [],
   "source": [
    "from tensorflow.keras.models import load_model\n",
    "import librosa\n",
    "import numpy as np\n",
    "from pycoral.utils.edgetpu import make_interpreter\n",
    "import time\n",
    "import os\n",
    "import matplotlib.pyplot as plt"
   ]
  },
  {
   "cell_type": "code",
   "execution_count": null,
   "metadata": {},
   "outputs": [],
   "source": [
    "classes = [\"bed\", \"bird\", \"cat\", \"dog\", \"down\", \"eight\", \"five\", \"four\", \"go\", \"happy\", \"house\", \"left\", \"marvel\", \"nine\", \"no\", \"off\", \"on\", \"one\", \"right\", \"seven\", \"sheila\", \"six\", \"stop\", \"three\", \"tree\", \"two\", \"up\", \"wow\", \"yes\", \"zero\"]\n",
    "\n",
    "data_dir = 'audios'\n",
    "sample_rate = 16000\n",
    "n_mfcc = 40\n",
    "max_pad_len = 173  "
   ]
  },
  {
   "cell_type": "code",
   "execution_count": null,
   "metadata": {},
   "outputs": [],
   "source": [
    "def preprocess_audio_coral(file_path):\n",
    "    \n",
    "    x, sr = librosa.load(file_path, sr=sample_rate)\n",
    "    mfccs = librosa.feature.mfcc(y=x, sr=sr, n_mfcc=n_mfcc)\n",
    "    \n",
    "    if mfccs.shape[1] < max_pad_len:\n",
    "        pad_width = max_pad_len - mfccs.shape[1]\n",
    "        mfccs = np.pad(mfccs, ((0, 0), (0, pad_width)), mode='constant')\n",
    "    elif mfccs.shape[1] > max_pad_len:\n",
    "        mfccs = mfccs[:, :max_pad_len]\n",
    "    \n",
    "    mfccs = np.expand_dims(mfccs, axis=0) \n",
    "    mfccs = np.expand_dims(mfccs, axis=-1)\n",
    "    \n",
    "    return mfccs"
   ]
  },
  {
   "cell_type": "code",
   "execution_count": null,
   "metadata": {},
   "outputs": [],
   "source": [
    "def preprocess_audio_keras(file_path, sample_rate=16000, n_mfcc=40, max_pad_len=173):\n",
    "    x, sr = librosa.load(file_path, sr=sample_rate)\n",
    "    \n",
    "    mfccs = librosa.feature.mfcc(y=x, sr=sr, n_mfcc=n_mfcc)\n",
    "    \n",
    "    if mfccs.shape[1] < max_pad_len:\n",
    "        pad_width = max_pad_len - mfccs.shape[1]\n",
    "        mfccs = np.pad(mfccs, ((0, 0), (0, pad_width)), mode='constant')\n",
    "    elif mfccs.shape[1] > max_pad_len:\n",
    "        mfccs = mfccs[:, :max_pad_len]\n",
    "    \n",
    "    mfccs = mfccs[np.newaxis, ..., np.newaxis]\n",
    "\n",
    "    return mfccs"
   ]
  },
  {
   "cell_type": "code",
   "execution_count": null,
   "metadata": {},
   "outputs": [],
   "source": [
    "def predict_coral(audio):\n",
    "    input_data = preprocess_audio_coral(audio)\n",
    "\n",
    "    input_details = interpreter.get_input_details()\n",
    "    interpreter.set_tensor(input_details[0]['index'], input_data)\n",
    "\n",
    "    start_time = time.time()\n",
    "    interpreter.invoke()\n",
    "    end_time = time.time()\n",
    "\n",
    "    output_details = interpreter.get_output_details()\n",
    "    output_data = interpreter.get_tensor(output_details[0]['index'])\n",
    "    \n",
    "    predicted_class = np.argmax(output_data, axis=1)[0]\n",
    "        \n",
    "    return predicted_class, end_time - start_time"
   ]
  },
  {
   "cell_type": "code",
   "execution_count": null,
   "metadata": {},
   "outputs": [],
   "source": [
    "def predict_keras(audio, model):\n",
    "    input_data = preprocess_audio_keras(audio)\n",
    "\n",
    "    start_time = time.time()\n",
    "    predictions = model.predict(input_data)\n",
    "    end_time = time.time()\n",
    "\n",
    "    predicted_class = np.argmax(predictions)\n",
    "\n",
    "    return predicted_class, end_time - start_time"
   ]
  },
  {
   "cell_type": "code",
   "execution_count": null,
   "metadata": {},
   "outputs": [],
   "source": [
    "model_kreas = load_model('keyphrase_detection_model.h5')\n",
    "\n",
    "model_path = \"model_quantized_edgetpu.tflite\"\n",
    "interpreter = make_interpreter(model_path)\n",
    "interpreter.allocate_tensors()\n",
    "input_details = interpreter.get_input_details()\n",
    "output_details = interpreter.get_output_details()\n",
    "\n",
    "tests = []\n",
    "true_labels = []\n",
    "keras_times = []\n",
    "coral_times = []\n",
    "keras_preds = []\n",
    "coral_preds = []\n",
    "\n",
    "for i, class_ in enumerate(classes):\n",
    "    audios = os.listdir(\"audios/\" + class_)\n",
    "    cr = 0\n",
    "    for audio in audios[:5]:\n",
    "        file_path = \"audios/\" + class_ + \"/\" + audio\n",
    "        keras_p = predict_keras(file_path, model_kreas)\n",
    "        coral_p = predict_coral(file_path)  \n",
    "        file_path = os.path.join(\"audios\", class_, audio)\n",
    "        keras_pred, keras_time = predict_keras(file_path, model_keras)\n",
    "        coral_pred, coral_time = predict_coral(file_path)\n",
    "        \n",
    "        true_label = i  # La clase verdadera es el índice de la clase\n",
    "        tests.append((file_path, keras_pred, classes[keras_pred], keras_time, coral_pred, classes[coral_pred], coral_time))\n",
    "        true_labels.append(true_label)\n",
    "        keras_times.append(keras_time)\n",
    "        coral_times.append(coral_time)\n",
    "        keras_preds.append(keras_pred)\n",
    "        coral_preds.append(coral_pred)"
   ]
  },
  {
   "cell_type": "code",
   "execution_count": null,
   "metadata": {},
   "outputs": [],
   "source": [
    "for test in tests:\n",
    "    print(test)"
   ]
  },
  {
   "cell_type": "code",
   "execution_count": null,
   "metadata": {},
   "outputs": [],
   "source": [
    "keras_accuracy = np.mean(np.array(keras_preds) == np.array(true_labels))\n",
    "coral_accuracy = np.mean(np.array(coral_preds) == np.array(true_labels))\n",
    "\n",
    "plt.figure(figsize=(12, 5))\n",
    "\n",
    "plt.subplot(1, 2, 1)\n",
    "plt.boxplot([keras_times, coral_times], labels=['Keras (GPU)', 'Coral (Edge TPU)'])\n",
    "plt.title('Inference Time Comparison')\n",
    "plt.ylabel('Time (seconds)')\n",
    "plt.grid(True)\n",
    "\n",
    "plt.subplot(1, 2, 2)\n",
    "plt.bar(['Keras (GPU)', 'Coral (Edge TPU)'], [keras_accuracy, coral_accuracy], color=['blue', 'orange'])\n",
    "plt.title('Accuracy Comparison')\n",
    "plt.ylabel('Accuracy')\n",
    "plt.ylim(0, 1)\n",
    "plt.grid(True)\n",
    "\n",
    "plt.tight_layout()\n",
    "plt.show()"
   ]
  }
 ],
 "metadata": {
  "kernelspec": {
   "display_name": "Python 3",
   "language": "python",
   "name": "python3"
  },
  "language_info": {
   "codemirror_mode": {
    "name": "ipython",
    "version": 3
   },
   "file_extension": ".py",
   "mimetype": "text/x-python",
   "name": "python",
   "nbconvert_exporter": "python",
   "pygments_lexer": "ipython3",
   "version": "3.10.15"
  }
 },
 "nbformat": 4,
 "nbformat_minor": 2
}
