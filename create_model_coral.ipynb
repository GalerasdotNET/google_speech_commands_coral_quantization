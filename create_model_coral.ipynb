{
 "cells": [
  {
   "cell_type": "code",
   "execution_count": null,
   "metadata": {},
   "outputs": [],
   "source": [
    "import numpy as np\n",
    "import tensorflow as tf\n",
    "import os\n",
    "import librosa"
   ]
  },
  {
   "cell_type": "code",
   "execution_count": null,
   "metadata": {},
   "outputs": [],
   "source": [
    "n_mfcc = 40\n",
    "max_pad_len = 173  \n",
    "sample_rate = 16000\n",
    "data_dir = 'audios' \n",
    "classes = [\"bed\", \"bird\", \"cat\", \"dog\", \"down\", \"eight\", \"five\", \"four\", \"go\", \"happy\", \"house\", \"left\", \"marvel\", \"nine\", \"no\", \"off\", \"on\", \"one\", \"right\", \"seven\", \"sheila\", \"six\", \"stop\", \"three\", \"tree\", \"two\", \"up\", \"wow\", \"yes\", \"zero\"]"
   ]
  },
  {
   "cell_type": "code",
   "execution_count": null,
   "metadata": {},
   "outputs": [],
   "source": [
    "def representative_dataset_gen():\n",
    "    # Obtener la lista de archivos de audio en la carpeta\n",
    "    audio_files = []\n",
    "    \n",
    "    for class_ in classes:\n",
    "        audio_files = audio_files + [os.path.join(data_dir, class_, fname) for fname in os.listdir(data_dir + '/' + class_) if fname.endswith('.wav')]\n",
    "    \n",
    "    print(\"audio_files\", len(audio_files))\n",
    "    \n",
    "    for file_path in audio_files:\n",
    "        # Cargar el archivo de audio\n",
    "        x, sr = librosa.load(file_path, sr=sample_rate)\n",
    "        mfccs = librosa.feature.mfcc(y=x, sr=sr, n_mfcc=n_mfcc)\n",
    "        \n",
    "        # Rellenar las secuencias para que todas tengan la misma longitud\n",
    "        if mfccs.shape[1] < max_pad_len:\n",
    "            # Añadir ceros (padding) al final para igualar la longitud\n",
    "            pad_width = max_pad_len - mfccs.shape[1]\n",
    "            mfccs = np.pad(mfccs, ((0, 0), (0, pad_width)), mode='constant')\n",
    "        elif mfccs.shape[1] > max_pad_len:\n",
    "            # Recortar la secuencia si es más larga\n",
    "            mfccs = mfccs[:, :max_pad_len]\n",
    "        \n",
    "        mfccs = np.expand_dims(mfccs, axis=0)  # Añadir el batch size\n",
    "        mfccs = np.expand_dims(mfccs, axis=-1)  # Añadir la dimensión de canales (1)\n",
    "        \n",
    "        yield [mfccs]"
   ]
  },
  {
   "cell_type": "code",
   "execution_count": null,
   "metadata": {},
   "outputs": [],
   "source": [
    "\n",
    "new_model = tf.keras.models.load_model('keyphrase_detection_model.h5')\n",
    "converter = tf.lite.TFLiteConverter.from_keras_model(new_model)\n",
    "converter.optimizations = [tf.lite.Optimize.DEFAULT]\n",
    "converter.representative_dataset = representative_dataset_gen\n",
    "converter.target_spec.supported_ops = [tf.lite.OpsSet.TFLITE_BUILTINS_INT8]\n",
    "converter.inference_input_type = tf.float32  # Tipo de inferencia de entrada\n",
    "converter.inference_output_type = tf.float32\n",
    "tflite_model = converter.convert()\n",
    "\n",
    "open(\"model_quantized.tflite\", \"wb\").write(tflite_model)"
   ]
  },
  {
   "cell_type": "code",
   "execution_count": null,
   "metadata": {},
   "outputs": [],
   "source": [
    "!edgetpu_compiler model_quantized.tflite"
   ]
  }
 ],
 "metadata": {
  "kernelspec": {
   "display_name": "Python 3",
   "language": "python",
   "name": "python3"
  },
  "language_info": {
   "codemirror_mode": {
    "name": "ipython",
    "version": 3
   },
   "file_extension": ".py",
   "mimetype": "text/x-python",
   "name": "python",
   "nbconvert_exporter": "python",
   "pygments_lexer": "ipython3",
   "version": "3.10.15"
  }
 },
 "nbformat": 4,
 "nbformat_minor": 2
}
